{
 "cells": [
  {
   "cell_type": "markdown",
   "id": "c2e647a4",
   "metadata": {},
   "source": [
    "# Exercise Sheet 05: Recommender Systems\n",
    "\n",
    "**Introduction to Data Mining WS23/24**  \n",
    "**Bielefeld University**  \n",
    "**Alina Deriyeva, Benjamin Paaßen**  \n",
    "**Exercise Sheet Publication Date: 2024-01-08**  \n",
    "**Exercise Sheet Submission Deadline: 2024-01-19, noon (i.e. 12:00)**, via **moodle** (please do not use e-mail submissions anymore).\n",
    "\n",
    "**NOTE** The use of language models/AI tools is permitted IF you notify us of the use (just indicate it in the respective task) and are still able to understand and present your results. We also appreciate it if you link to a chatlog of the interaction with the language model/AI tool so that we can understand better how students tend to use these tools."
   ]
  },
  {
   "cell_type": "markdown",
   "id": "9f8967b8",
   "metadata": {},
   "source": [
    "**PLEASE INDICATE ALL AUTHORS OF THE SUBMISSION IN THIS FIELD**\n",
    "Christoph Geske, ..."
   ]
  },
  {
   "cell_type": "markdown",
   "id": "253f2f6c",
   "metadata": {},
   "source": [
    "### Preamble: Data set\n",
    "\n",
    "Consider the data set in `sheet05_data.csv`. This data set contains the study progress of 50 students in a fictional university bachelor computer science dgree.\n",
    "\n",
    "Each row corresponds to one attempt of one student at a course. The first column contains the student index $i$, the second column the time step $t$, the third column the course index $j$, and the fourth column the grade the student achieved, where -2 means failed, -1 means passed with a not so good grade, +1 means passed with a good grade, and +2 means passed with an excellent grade.\n",
    "\n",
    "The courses are the following."
   ]
  },
  {
   "cell_type": "code",
   "execution_count": 54,
   "id": "04b58e4b",
   "metadata": {
    "ExecuteTime": {
     "end_time": "2024-01-19T03:07:53.937146900Z",
     "start_time": "2024-01-19T03:07:53.841642500Z"
    }
   },
   "outputs": [],
   "source": [
    "courses = ['A&D', 'math', 'programming', 'technical CS', 'theoretical CS', 'robotics', 'machine learning', 'data mining', 'software engineering']\n",
    "grades  = ['failed', 'passed', 'good', 'excellent']"
   ]
  },
  {
   "cell_type": "markdown",
   "id": "694d3928",
   "metadata": {},
   "source": [
    "The following codes loads the data and prints the progress for the first student."
   ]
  },
  {
   "cell_type": "code",
   "execution_count": 55,
   "id": "295ca709",
   "metadata": {
    "ExecuteTime": {
     "end_time": "2024-01-19T03:07:54.012656100Z",
     "start_time": "2024-01-19T03:07:53.853643300Z"
    }
   },
   "outputs": [
    {
     "name": "stdout",
     "output_type": "stream",
     "text": [
      "progress for student 0\n",
      "time 0: \"math\" with grade \"passed\"\n",
      "time 1: \"A&D\" with grade \"excellent\"\n",
      "time 2: \"technical CS\" with grade \"good\"\n",
      "time 3: \"programming\" with grade \"good\"\n",
      "time 4: \"data mining\" with grade \"passed\"\n",
      "time 5: \"technical CS\" with grade \"excellent\"\n",
      "time 6: \"programming\" with grade \"passed\"\n",
      "time 7: \"software engineering\" with grade \"good\"\n",
      "time 8: \"robotics\" with grade \"good\"\n"
     ]
    }
   ],
   "source": [
    "# AI tools (Bing Chat) used for commenting\n",
    "\n",
    "# import the numpy and matplotlib libraries\n",
    "import numpy as np\n",
    "import matplotlib.pyplot as plt\n",
    "\n",
    "# load the data from the csv file into a numpy array\n",
    "X = np.loadtxt('sheet05_data.csv', skiprows = 1, delimiter = '\\t', dtype=int)\n",
    "\n",
    "# define the list of courses and grades\n",
    "courses = ['A&D', 'math', 'programming', 'technical CS', 'theoretical CS', 'robotics', 'machine learning', 'data mining', 'software engineering']\n",
    "grades  = ['failed', 'passed', 'good', 'excellent']\n",
    "\n",
    "# initialize the time step to zero\n",
    "t = 0\n",
    "# print the progress for student 0\n",
    "print('progress for student 0')\n",
    "# loop until the student index changes\n",
    "while True:\n",
    "    # get the student index, course index, and grade from the data array\n",
    "    # where t is the time step and X[t, 0] is the student index\n",
    "    i = X[t, 0]\n",
    "    # where X[t, 2] is the course index\n",
    "    j = X[t, 2]\n",
    "    # where X[t, 3] is the grade\n",
    "    g = X[t, 3]\n",
    "    # if the student index is not zero, break the loop since we only want to loop through the entries of student 0\n",
    "    if i > 0:\n",
    "        break\n",
    "    # print the time step, course name, and grade\n",
    "    print('time %d: \\\"%s\\\" with grade \\\"%s\\\"' % (t, courses[j], grades[g]))\n",
    "    # increment the time step\n",
    "    t += 1\n"
   ]
  },
  {
   "cell_type": "markdown",
   "id": "425ee677",
   "metadata": {},
   "source": [
    "## Markov chains\n",
    "\n",
    "In the following tasks, we will apply a Markov chain to this data set. A Markov chain is defined by two types of parameters: For each course $j$, we have a starting probability $\\pi_j$. And for each pair for courses $(j, k)$, we have a probability $p_{j, k}$ that indicates the likelihood of attempting course $k$ after course $j$."
   ]
  },
  {
   "cell_type": "markdown",
   "id": "9b3faac8",
   "metadata": {},
   "source": [
    "### Task 05.01\n",
    "\n",
    "Compute a Markov Chain based on the given data set. In particular.\n",
    "\n",
    "1. Generate a vector `pi` with `len(courses)` entries where `pi[j]` is the number of times course `j` was attempted as first course.\n",
    "2. Divide `pi` by its sum to obtain probabilities.\n",
    "3. Generate a matrix `P` with `len(courses) x len(courses)` entries where `P[j, k]` is the number of times course `k` was attempted after course `j`.\n",
    "4. Divide each row of `P` by its sum to obtain probabilities."
   ]
  },
  {
   "cell_type": "code",
   "execution_count": 56,
   "outputs": [],
   "source": [
    "# AI tools (Bing Chat) used for all the code (generated in multiple steps refining errors made by the AI) and partly for commenting\n",
    "\n",
    "# initialize the vector pi with zeros\n",
    "pi = np.zeros(len(courses), dtype=int)\n",
    "\n",
    "# loop over the data array\n",
    "for t in range(len(X)):\n",
    "    # get the student index, course index, and grade from the data array\n",
    "    # where t is the time step and X[t, 0] is the student index\n",
    "    i = X[t, 0]\n",
    "    # where X[t, 2] is the course index\n",
    "    j = X[t, 2]\n",
    "    # where X[t, 3] is the grade\n",
    "    g = X[t, 3]\n",
    "    # if the time step is zero, increment the corresponding entry in pi (since the course was attempted as the first course)\n",
    "    # t is 0 for the first attempt of each student lets say student 0 attempts math first, then t is 0 for the first attempt of math. This is also the cases we want to increment. If t would be 1, then we don't want to increment pi, since the course was not attempted as the first course.\n",
    "    # i != X[t-1, 0], is true when the student index is different from the previous one, which means the start of a new student’s progress. For example, this is true for the row with time step 9, which is the first attempt of student 1 at course 1 “programming”. So, we increment the entry in pi for course “programming” and then loop through the entries until another student appears in the list.\n",
    "    if t == 0 or i != X[t-1, 0]: \n",
    "        pi[j] += 1\n",
    "\n",
    "# divide pi by its sum to obtain probabilities\n",
    "pi = pi / pi.sum()\n",
    "\n",
    "# initialize the matrix P with zeros\n",
    "P = np.zeros((len(courses), len(courses)), dtype=int)\n",
    "\n",
    "# loop over the data array again\n",
    "for t in range(1, len(X)):\n",
    "    # get the student index, course index, and grade from the data array\n",
    "    # where t is the time step and X[t, 0] is the student index\n",
    "    i = X[t, 0]\n",
    "    # where X[t, 2] is the course index\n",
    "    j = X[t, 2]\n",
    "    # where X[t, 3] is the grade\n",
    "    g = X[t, 3]\n",
    "\n",
    "    # if the student index is the same as the previous one, increment the corresponding entry in P\n",
    "    # this means that the current row in the data array corresponds to a subsequent attempt of a student at a course\n",
    "    # we want to count how many times a course was attempted after another course\n",
    "    # for example, if a student attempts course \"math\" after course \"A&D\", we want to increment the entry in P for (A&D, math)\n",
    "    # k represents the previous course and j the current course index\n",
    "    # P[k, j] is the entry in P for the pair of courses (k, j)\n",
    "    # i == X[t-1, 0] is true when the student index is the same as the previous one, which means a subsequent attempt of the same student at a course.\n",
    "    # if the course index is the same as the previous one, we don't want to increment the entry in P, since we want to count how many times a course was attempted after another course. In order to prevent counting the same course as the previous one, we check if the course index is the same as the previous one. The course index is the same as the previous one, if j == X[t-1, 2].\n",
    "    if i == X[t-1, 0]: # Add this code \" and j != X[t-1, 2]\" if you want to prevent that the same course repeating is also counted.\n",
    "        k = X[t-1, 2]\n",
    "        P[k, j] += 1\n",
    "\n",
    "# divide each row of P by its sum to obtain probabilities\n",
    "P = P / P.sum(axis=1, keepdims=True)\n"
   ],
   "metadata": {
    "collapsed": false,
    "ExecuteTime": {
     "end_time": "2024-01-19T03:07:54.013655500Z",
     "start_time": "2024-01-19T03:07:53.872647700Z"
    }
   },
   "id": "bf630427ab73ce8a"
  },
  {
   "cell_type": "markdown",
   "id": "161bf4ee",
   "metadata": {},
   "source": [
    "### Task 05.02\n",
    "\n",
    "Try to understand the following code. Then, execute it."
   ]
  },
  {
   "cell_type": "code",
   "execution_count": 57,
   "id": "5853136a",
   "metadata": {
    "ExecuteTime": {
     "end_time": "2024-01-19T03:07:54.013655500Z",
     "start_time": "2024-01-19T03:07:53.884939900Z"
    }
   },
   "outputs": [
    {
     "name": "stdout",
     "output_type": "stream",
     "text": [
      "for a student who has not attempted any course yet, the Markov chain would predict next:\n",
      "  \"A&D\" with probability 20%\n",
      "  \"math\" with probability 34%\n",
      "  \"programming\" with probability 26%\n",
      "  \"technical CS\" with probability 20%\n",
      "  \"theoretical CS\" with probability 0%\n",
      "  \"robotics\" with probability 0%\n",
      "  \"machine learning\" with probability 0%\n",
      "  \"data mining\" with probability 0%\n",
      "  \"software engineering\" with probability 0%\n",
      "for a student who has attempted \"A&D\" last, the Markov chain would predict next:\n",
      "  \"A&D\" with probability 4%\n",
      "  \"math\" with probability 25%\n",
      "  \"programming\" with probability 8%\n",
      "  \"technical CS\" with probability 14%\n",
      "  \"theoretical CS\" with probability 14%\n",
      "  \"robotics\" with probability 8%\n",
      "  \"machine learning\" with probability 8%\n",
      "  \"data mining\" with probability 0%\n",
      "  \"software engineering\" with probability 14%\n",
      "for a student who has attempted \"math\" last, the Markov chain would predict next:\n",
      "  \"A&D\" with probability 10%\n",
      "  \"math\" with probability 25%\n",
      "  \"programming\" with probability 8%\n",
      "  \"technical CS\" with probability 10%\n",
      "  \"theoretical CS\" with probability 8%\n",
      "  \"robotics\" with probability 1%\n",
      "  \"machine learning\" with probability 11%\n",
      "  \"data mining\" with probability 20%\n",
      "  \"software engineering\" with probability 4%\n",
      "for a student who has attempted \"programming\" last, the Markov chain would predict next:\n",
      "  \"A&D\" with probability 21%\n",
      "  \"math\" with probability 17%\n",
      "  \"programming\" with probability 3%\n",
      "  \"technical CS\" with probability 13%\n",
      "  \"theoretical CS\" with probability 3%\n",
      "  \"robotics\" with probability 9%\n",
      "  \"machine learning\" with probability 1%\n",
      "  \"data mining\" with probability 5%\n",
      "  \"software engineering\" with probability 21%\n",
      "for a student who has attempted \"technical CS\" last, the Markov chain would predict next:\n",
      "  \"A&D\" with probability 4%\n",
      "  \"math\" with probability 10%\n",
      "  \"programming\" with probability 26%\n",
      "  \"technical CS\" with probability 6%\n",
      "  \"theoretical CS\" with probability 8%\n",
      "  \"robotics\" with probability 19%\n",
      "  \"machine learning\" with probability 8%\n",
      "  \"data mining\" with probability 15%\n",
      "  \"software engineering\" with probability 0%\n",
      "for a student who has attempted \"theoretical CS\" last, the Markov chain would predict next:\n",
      "  \"A&D\" with probability 0%\n",
      "  \"math\" with probability 18%\n",
      "  \"programming\" with probability 31%\n",
      "  \"technical CS\" with probability 27%\n",
      "  \"theoretical CS\" with probability 9%\n",
      "  \"robotics\" with probability 0%\n",
      "  \"machine learning\" with probability 9%\n",
      "  \"data mining\" with probability 0%\n",
      "  \"software engineering\" with probability 4%\n",
      "for a student who has attempted \"robotics\" last, the Markov chain would predict next:\n",
      "  \"A&D\" with probability 11%\n",
      "  \"math\" with probability 19%\n",
      "  \"programming\" with probability 11%\n",
      "  \"technical CS\" with probability 0%\n",
      "  \"theoretical CS\" with probability 19%\n",
      "  \"robotics\" with probability 7%\n",
      "  \"machine learning\" with probability 15%\n",
      "  \"data mining\" with probability 3%\n",
      "  \"software engineering\" with probability 11%\n",
      "for a student who has attempted \"machine learning\" last, the Markov chain would predict next:\n",
      "  \"A&D\" with probability 25%\n",
      "  \"math\" with probability 0%\n",
      "  \"programming\" with probability 11%\n",
      "  \"technical CS\" with probability 11%\n",
      "  \"theoretical CS\" with probability 14%\n",
      "  \"robotics\" with probability 7%\n",
      "  \"machine learning\" with probability 3%\n",
      "  \"data mining\" with probability 14%\n",
      "  \"software engineering\" with probability 11%\n",
      "for a student who has attempted \"data mining\" last, the Markov chain would predict next:\n",
      "  \"A&D\" with probability 22%\n",
      "  \"math\" with probability 0%\n",
      "  \"programming\" with probability 9%\n",
      "  \"technical CS\" with probability 16%\n",
      "  \"theoretical CS\" with probability 9%\n",
      "  \"robotics\" with probability 16%\n",
      "  \"machine learning\" with probability 16%\n",
      "  \"data mining\" with probability 0%\n",
      "  \"software engineering\" with probability 9%\n",
      "for a student who has attempted \"software engineering\" last, the Markov chain would predict next:\n",
      "  \"A&D\" with probability 6%\n",
      "  \"math\" with probability 23%\n",
      "  \"programming\" with probability 0%\n",
      "  \"technical CS\" with probability 20%\n",
      "  \"theoretical CS\" with probability 10%\n",
      "  \"robotics\" with probability 13%\n",
      "  \"machine learning\" with probability 3%\n",
      "  \"data mining\" with probability 13%\n",
      "  \"software engineering\" with probability 10%\n"
     ]
    }
   ],
   "source": [
    "# AI tools (Bing Chat) used partly for commenting\n",
    "\n",
    "print(\"for a student who has not attempted any course yet, the Markov chain would predict next:\")\n",
    "# loop over the courses\n",
    "for j in range(len(courses)):\n",
    "    # print the course name and the probability of attempting it as the first course\n",
    "    # the probability is given by the vector pi\n",
    "    print(\"  \\\"%s\\\" with probability %d%%\" % (courses[j], 100 * pi[j]))\n",
    "\n",
    "# loop over the courses again\n",
    "for last_j in range(len(courses)):\n",
    "    print(\"for a student who has attempted \\\"%s\\\" last, the Markov chain would predict next:\" % courses[last_j])\n",
    "    # loop over the courses once more\n",
    "    for j in range(len(courses)):\n",
    "        # print the course name and the probability of attempting it after the last course\n",
    "        # the probability is given by the matrix P\n",
    "        print(\"  \\\"%s\\\" with probability %d%%\" % (courses[j], 100 * P[last_j, j]))\n"
   ]
  },
  {
   "cell_type": "markdown",
   "id": "cc008b8d",
   "metadata": {},
   "source": [
    "### Task 05.03\n",
    "\n",
    "1. Consider a student who has attempted no course, yet. What are the probabilities, according to the Markov chain, to attempt \"theoretical CS\", \"robotics\", \"machine learning\", \"data mining\", or \"software engineering\", next? How do you explain these probabilities?\n",
    "2. Consider a student who has attempted \"math\" last. What is the probability, as predicted by the Markov chain, to attempt \"math\" again? How do you explain this probability?"
   ]
  },
  {
   "cell_type": "markdown",
   "id": "9683bc27",
   "metadata": {},
   "source": [
    "**Answer:**\n",
    "\n",
    "1. The probabilities are given by the vector pi. The probability of attempting one of these courses next is 0%. This means that none of the students in the data set attempted any of these courses as their first course. These courses are probably more advanced and require some prerequisites from the students.\n",
    "2. With this line of code \"and j != X[t-1, 2]\" I can exclude the possibility of counting attempts of the same course again. So, the probability of attempting \"math\" again is 0% as is the possibility of attempting any other course again. But if I don't use this line and don't remove the cases where the same course is attempted again after the previous one I get 25%. This might be the more realistic model since students likely try a course again if they failed it previously or want to improve their grade. "
   ]
  },
  {
   "cell_type": "markdown",
   "id": "e72cc3a0",
   "metadata": {},
   "source": [
    "### Task 05.04\n",
    "\n",
    "Assume we wanted to use this Markov chain for recommendations by always recommending the course with the highest probability.\n",
    "\n",
    "Discuss, whether this recommendation scheme makes sense for this data set. In particular:\n",
    "* Explain at least one advantage of Markov Chain-based recommendation for this data set.\n",
    "* Explain at least three problems of Markov Chain-based recommendation for this data set."
   ]
  },
  {
   "cell_type": "markdown",
   "id": "2b2ea786",
   "metadata": {},
   "source": [
    "**ANSWER:** \n",
    "\n",
    "AI tools (Bing Chat) used for helping in generating answers.\n",
    " \n",
    "**Advantage:**\n",
    "\n",
    "* Predictability: The Markov Chain model provides a probabilistic approach to predicting the next course a student might take based on their current course. This can be useful in understanding the general trend or pattern in course selection among students.\n",
    "\n",
    "* Not a Black Box: Unlike some machine learning models, matrix factorization is not a black box. It provides clear and interpretable results. \n",
    "\n",
    "**Disadvantages:**\n",
    "\n",
    "The Markov chain assumes that the course choice depends only on the last course, and ignores the other courses that the student has attempted.\n",
    "\n",
    "The Markov chain does not account for the availability, prerequisites, or requirements of the courses, and may recommend courses that the student cannot or should not take.\n",
    "\n",
    "The Markov chain does not consider the preferences, feedback, or satisfaction of the students, and may recommend courses that the student does not like or enjoy. For example, it may recommend a course that the student has already taken and disliked, or a course that the student has no interest in.\n",
    "\n",
    "The Markov chain does not update or adapt to the changing behavior or feedback of the students, and may recommend courses that are outdated, or it may recommend a course that the student has already taken and passed.\n"
   ]
  },
  {
   "cell_type": "markdown",
   "id": "3aefe2e8",
   "metadata": {},
   "source": [
    "## Collaborative filtering\n",
    "\n",
    "User-based collaborative filtering tries to recommend courses to a student based on the grades of students who achieved similar grades previously.\n",
    "\n",
    "More precisely, let $g_1, \\ldots, g_m$ be the grades of a new student for each course, where $g_j = 0$ if a course was not yet attempted. And let $g_{i, 1}, \\ldots, g_{i, m}$ be the grades of student $i$ for each course.\n",
    "\n",
    "Then, user-based collaborative filtering generates recommendations as follows.\n",
    "\n",
    "1. Compute the similarity $s_i$ of the grades of the new student on any course to the grades of prior students $i$. For example, we can use the cosine similarity:\n",
    "\\begin{equation}\n",
    "s_i = \\frac{\\sum_{j=1}^m g_j \\cdot g_{i, j}}{\\sqrt{\\sum_{j=1}^m g_j^2} \\cdot \\sqrt{\\sum_{j=1}^m g_{i, j}^2}}.\n",
    "\\end{equation}\n",
    "2. We compute the estimated rating of the new student for course $j$ via the equation:\n",
    "\\begin{equation}\n",
    "g_j \\approx \\frac{\\sum_{i : g_{i, j} \\neq 0}^N s_i \\cdot g_{i, j}}{\\sum_{i : g_{i, j} \\neq 0} s_i},\n",
    "\\end{equation}\n",
    "in other words we take the weighted average grade of all students who have attempted the course."
   ]
  },
  {
   "cell_type": "markdown",
   "id": "c00cf136",
   "metadata": {},
   "source": [
    "### Task 05.05\n",
    "\n",
    "Compute a matrix $G$ with one row per student and one column per course with entries $g_{i, j}$ as defined above, i.e. the grade of student $i$ on course $j$ in their final attempt on the course, where $g_{i, j} = 0$ if student $i$ has not yet attempted course $j$. Print the matrix."
   ]
  },
  {
   "cell_type": "code",
   "execution_count": 57,
   "id": "41be8fe7",
   "metadata": {
    "ExecuteTime": {
     "end_time": "2024-01-19T03:07:54.016656700Z",
     "start_time": "2024-01-19T03:07:53.910455400Z"
    }
   },
   "outputs": [],
   "source": []
  },
  {
   "cell_type": "markdown",
   "id": "2036e979",
   "metadata": {},
   "source": [
    "### Task 05.06\n",
    "\n",
    "Write a python function that takes a vector of grades as input and returns a copy of this vector where each zero entry is replaced with the collaborative filtering estimate of the grade according to the scheme above.\n",
    "\n",
    "Use your function to print the estimated grades for two fictional students:\n",
    "1. A student who has achieved an excellent grade in programming and good in technical CS as well as A&D but only passing in math and has not yet attempted any other course.\n",
    "2. A student who has achieved an excellent grade in math and A&D but only passing in technical CS and programming and has not yet attempted any other course.\n",
    "\n",
    "Which course would you recommend for these two students, respectively, given the grade estimates?"
   ]
  },
  {
   "cell_type": "code",
   "execution_count": 57,
   "id": "34229123",
   "metadata": {
    "ExecuteTime": {
     "end_time": "2024-01-19T03:07:54.037656200Z",
     "start_time": "2024-01-19T03:07:53.929136400Z"
    }
   },
   "outputs": [],
   "source": []
  },
  {
   "cell_type": "markdown",
   "id": "130de488",
   "metadata": {},
   "source": [
    "**ANSWER:**"
   ]
  },
  {
   "cell_type": "markdown",
   "id": "be74fc5f",
   "metadata": {},
   "source": [
    "### Task 05.07\n",
    "\n",
    "Discuss whether collaborative filtering makes sense for this kind of data. In particular:\n",
    "\n",
    "* Explain at least one advantage of collaborative filtering for this data set.\n",
    "* Explain at least two problems of collaborative filtering for this data set."
   ]
  },
  {
   "cell_type": "markdown",
   "id": "06cc562f",
   "metadata": {},
   "source": [
    "**ANSWER:**\n",
    "\n",
    "**Advantage:**\n",
    "\n",
    "**Disadvantages:**"
   ]
  },
  {
   "cell_type": "markdown",
   "id": "d2e185b0",
   "metadata": {},
   "source": [
    "## Matrix factorization\n",
    "\n",
    "Given an $N \\times m$ grading matrix $G$, matrix factorization attempts to find two matrices, namely a $N \\times K$ matrix of student rperesentations $U$ and a $K \\times m$ matrix of course representations $V$, such that the Frobenius norm $\\lVert G - U \\cdot V \\rvert_F$ is minimized for a given, small $K$. This is achieved via singular value decomposition.\n",
    "\n",
    "A singular value decomposition returns three output arguments:\n",
    "1. The matrix of eigenvectors $\\tilde U$ of $G \\cdot G^T$.\n",
    "2. The matrix of eigenvalues $\\Lambda$ of $G^T \\cdot G$.\n",
    "3. The matrix of eigenvectors $\\tilde V$ of $G^T \\cdot G$.\n",
    "\n",
    "The original matrix $G$ can be losslessly reconstructed via $\\tilde U_{:, :m} \\cdot \\Lambda \\cdot \\tilde V$, taking only the first $m$ columns of $\\tilde U$.\n",
    "\n",
    "For matrix factorization, we decide on a number of $K \\ll m$ latent factors and define the student representations as $U := \\tilde U_{:, :K} \\cdot \\sqrt{\\Lambda_{:K, :K}}$ and the course representations as $V := \\sqrt{\\Lambda_{:K, :K}} \\cdot \\tilde V$."
   ]
  },
  {
   "cell_type": "markdown",
   "id": "cff0467c",
   "metadata": {},
   "source": [
    "### Task 05.08\n",
    "\n",
    "Provide a python function which takes a $N \\times m$ grade matrix $G$ as well as a number of latent components $K$ as input and returns the $N \\times K$ matrix of student representations $U$ and the $K \\times m$ matrix of course representations $V$.\n",
    "\n",
    "Use the function `np.linalg.svd` to perform the singular value decomposition."
   ]
  },
  {
   "cell_type": "code",
   "execution_count": 57,
   "id": "e9f148d5",
   "metadata": {
    "ExecuteTime": {
     "end_time": "2024-01-19T03:07:54.040665400Z",
     "start_time": "2024-01-19T03:07:53.945135700Z"
    }
   },
   "outputs": [],
   "source": []
  },
  {
   "cell_type": "markdown",
   "id": "cb5d00ad",
   "metadata": {},
   "source": [
    "### Task 05.09\n",
    "\n",
    "Provide a plot with the number of latent dimensions $K$ on the x axis and the reconstruction error $\\lVert G - U \\cdot V \\rVert_F$ on the y axis for $K$ between 1 and 9."
   ]
  },
  {
   "cell_type": "code",
   "execution_count": 57,
   "id": "cd04ba58",
   "metadata": {
    "ExecuteTime": {
     "end_time": "2024-01-19T03:07:54.040665400Z",
     "start_time": "2024-01-19T03:07:53.962136100Z"
    }
   },
   "outputs": [],
   "source": []
  },
  {
   "cell_type": "markdown",
   "id": "bb92c624",
   "metadata": {},
   "source": [
    "### Task 05.10\n",
    "\n",
    "Provide two scatter plots, one for the student representations $U$, and one for the course representations $V$, in $K$ dimensions. The course representations should be labeled with the course names."
   ]
  },
  {
   "cell_type": "code",
   "execution_count": 57,
   "id": "fdfcd03d",
   "metadata": {
    "ExecuteTime": {
     "end_time": "2024-01-19T03:07:54.040665400Z",
     "start_time": "2024-01-19T03:07:53.976134700Z"
    }
   },
   "outputs": [],
   "source": []
  },
  {
   "cell_type": "markdown",
   "id": "c42aabf2",
   "metadata": {},
   "source": [
    "### Task 05.11\n",
    "\n",
    "Make a copy of the original grading matrix $G$.\n",
    "In the copy, fill in zeros using the entries of the product $U \\cdot V$ for $K = 2$.\n",
    "Plot the resulting grading matrix."
   ]
  },
  {
   "cell_type": "code",
   "execution_count": 57,
   "id": "a4a0e521",
   "metadata": {
    "ExecuteTime": {
     "end_time": "2024-01-19T03:07:54.041667500Z",
     "start_time": "2024-01-19T03:07:53.991150200Z"
    }
   },
   "outputs": [],
   "source": []
  },
  {
   "cell_type": "markdown",
   "id": "5ed294bd",
   "metadata": {},
   "source": [
    "### Task 05.12\n",
    "\n",
    "Discuss whether matrix factorization makes sense for this kind of data. In particular:\n",
    "\n",
    "* Explain at least one advantage of matrix factorization for this data set.\n",
    "* Explain at least two problems of matrix factorization for this data set."
   ]
  },
  {
   "cell_type": "markdown",
   "id": "b995428e",
   "metadata": {},
   "source": [
    "**ANSWER:**\n",
    "\n",
    "**Advantage:**\n",
    "\n",
    "**Disadvantages:**"
   ]
  }
 ],
 "metadata": {
  "kernelspec": {
   "display_name": "Python 3 (ipykernel)",
   "language": "python",
   "name": "python3"
  },
  "language_info": {
   "codemirror_mode": {
    "name": "ipython",
    "version": 3
   },
   "file_extension": ".py",
   "mimetype": "text/x-python",
   "name": "python",
   "nbconvert_exporter": "python",
   "pygments_lexer": "ipython3",
   "version": "3.11.7"
  }
 },
 "nbformat": 4,
 "nbformat_minor": 5
}
