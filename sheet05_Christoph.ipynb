{
 "cells": [
  {
   "cell_type": "markdown",
   "id": "c2e647a4",
   "metadata": {},
   "source": [
    "# Exercise Sheet 05: Recommender Systems\n",
    "\n",
    "**Introduction to Data Mining WS23/24**  \n",
    "**Bielefeld University**  \n",
    "**Alina Deriyeva, Benjamin Paaßen**  \n",
    "**Exercise Sheet Publication Date: 2024-01-08**  \n",
    "**Exercise Sheet Submission Deadline: 2024-01-19, noon (i.e. 12:00)**, via **moodle** (please do not use e-mail submissions anymore).\n",
    "\n",
    "**NOTE** The use of language models/AI tools is permitted IF you notify us of the use (just indicate it in the respective task) and are still able to understand and present your results. We also appreciate it if you link to a chatlog of the interaction with the language model/AI tool so that we can understand better how students tend to use these tools."
   ]
  },
  {
   "cell_type": "markdown",
   "id": "9f8967b8",
   "metadata": {},
   "source": [
    "**PLEASE INDICATE ALL AUTHORS OF THE SUBMISSION IN THIS FIELD**\n",
    "Christoph Geske, ..."
   ]
  },
  {
   "cell_type": "markdown",
   "id": "253f2f6c",
   "metadata": {},
   "source": [
    "### Preamble: Data set\n",
    "\n",
    "Consider the data set in `sheet05_data.csv`. This data set contains the study progress of 50 students in a fictional university bachelor computer science dgree.\n",
    "\n",
    "Each row corresponds to one attempt of one student at a course. The first column contains the student index $i$, the second column the time step $t$, the third column the course index $j$, and the fourth column the grade the student achieved, where -2 means failed, -1 means passed with a not so good grade, +1 means passed with a good grade, and +2 means passed with an excellent grade.\n",
    "\n",
    "The courses are the following."
   ]
  },
  {
   "cell_type": "code",
   "execution_count": 114,
   "id": "04b58e4b",
   "metadata": {
    "ExecuteTime": {
     "end_time": "2024-01-19T10:28:02.707438600Z",
     "start_time": "2024-01-19T10:28:02.647447700Z"
    }
   },
   "outputs": [],
   "source": [
    "courses = ['A&D', 'math', 'programming', 'technical CS', 'theoretical CS', 'robotics', 'machine learning', 'data mining', 'software engineering']\n",
    "grades  = ['failed', 'passed', 'good', 'excellent']"
   ]
  },
  {
   "cell_type": "markdown",
   "id": "694d3928",
   "metadata": {},
   "source": [
    "The following codes loads the data and prints the progress for the first student."
   ]
  },
  {
   "cell_type": "code",
   "execution_count": 115,
   "id": "295ca709",
   "metadata": {
    "ExecuteTime": {
     "end_time": "2024-01-19T10:28:02.769959100Z",
     "start_time": "2024-01-19T10:28:02.656433100Z"
    }
   },
   "outputs": [
    {
     "name": "stdout",
     "output_type": "stream",
     "text": [
      "progress for student 0\n",
      "time 0: \"math\" with grade \"passed\"\n",
      "time 1: \"A&D\" with grade \"excellent\"\n",
      "time 2: \"technical CS\" with grade \"good\"\n",
      "time 3: \"programming\" with grade \"good\"\n",
      "time 4: \"data mining\" with grade \"passed\"\n",
      "time 5: \"technical CS\" with grade \"excellent\"\n",
      "time 6: \"programming\" with grade \"passed\"\n",
      "time 7: \"software engineering\" with grade \"good\"\n",
      "time 8: \"robotics\" with grade \"good\"\n"
     ]
    }
   ],
   "source": [
    "# AI tools (Bing Chat) used for commenting\n",
    "\n",
    "# import the numpy and matplotlib libraries\n",
    "import numpy as np\n",
    "import matplotlib.pyplot as plt\n",
    "\n",
    "# load the data from the csv file into a numpy array\n",
    "X = np.loadtxt('sheet05_data.csv', skiprows = 1, delimiter = '\\t', dtype=int)\n",
    "\n",
    "# define the list of courses and grades\n",
    "courses = ['A&D', 'math', 'programming', 'technical CS', 'theoretical CS', 'robotics', 'machine learning', 'data mining', 'software engineering']\n",
    "grades  = ['failed', 'passed', 'good', 'excellent']\n",
    "\n",
    "# initialize the time step to zero\n",
    "t = 0\n",
    "# print the progress for student 0\n",
    "print('progress for student 0')\n",
    "# loop until the student index changes\n",
    "while True:\n",
    "    # get the student index, course index, and grade from the data array\n",
    "    # where t is the time step and X[t, 0] is the student index\n",
    "    i = X[t, 0]\n",
    "    # where X[t, 2] is the course index\n",
    "    j = X[t, 2]\n",
    "    # where X[t, 3] is the grade\n",
    "    g = X[t, 3]\n",
    "    # if the student index is not zero, break the loop since we only want to loop through the entries of student 0\n",
    "    if i > 0:\n",
    "        break\n",
    "    # print the time step, course name, and grade\n",
    "    print('time %d: \\\"%s\\\" with grade \\\"%s\\\"' % (t, courses[j], grades[g]))\n",
    "    # increment the time step\n",
    "    t += 1\n"
   ]
  },
  {
   "cell_type": "markdown",
   "id": "425ee677",
   "metadata": {},
   "source": [
    "## Markov chains\n",
    "\n",
    "In the following tasks, we will apply a Markov chain to this data set. A Markov chain is defined by two types of parameters: For each course $j$, we have a starting probability $\\pi_j$. And for each pair for courses $(j, k)$, we have a probability $p_{j, k}$ that indicates the likelihood of attempting course $k$ after course $j$."
   ]
  },
  {
   "cell_type": "markdown",
   "id": "9b3faac8",
   "metadata": {},
   "source": [
    "### Task 05.01\n",
    "\n",
    "Compute a Markov Chain based on the given data set. In particular.\n",
    "\n",
    "1. Generate a vector `pi` with `len(courses)` entries where `pi[j]` is the number of times course `j` was attempted as first course.\n",
    "2. Divide `pi` by its sum to obtain probabilities.\n",
    "3. Generate a matrix `P` with `len(courses) x len(courses)` entries where `P[j, k]` is the number of times course `k` was attempted after course `j`.\n",
    "4. Divide each row of `P` by its sum to obtain probabilities."
   ]
  },
  {
   "cell_type": "code",
   "execution_count": 116,
   "outputs": [],
   "source": [
    "# AI tools (Bing Chat) used for all the code (generated in multiple steps refining errors made by the AI) and partly for commenting\n",
    "\n",
    "# initialize the vector pi with zeros\n",
    "pi = np.zeros(len(courses), dtype=int)\n",
    "\n",
    "# loop over the data array\n",
    "for t in range(len(X)):\n",
    "    # get the student index, course index, and grade from the data array\n",
    "    # where t is the time step and X[t, 0] is the student index\n",
    "    i = X[t, 0]\n",
    "    # where X[t, 2] is the course index\n",
    "    j = X[t, 2]\n",
    "    # where X[t, 3] is the grade\n",
    "    g = X[t, 3]\n",
    "    # if the time step is zero, increment the corresponding entry in pi (since the course was attempted as the first course)\n",
    "    # t is 0 for the first attempt of each student lets say student 0 attempts math first, then t is 0 for the first attempt of math. This is also the cases we want to increment. If t would be 1, then we don't want to increment pi, since the course was not attempted as the first course.\n",
    "    # i != X[t-1, 0], is true when the student index is different from the previous one, which means the start of a new student’s progress. For example, this is true for the row with time step 9, which is the first attempt of student 1 at course 1 “programming”. So, we increment the entry in pi for course “programming” and then loop through the entries until another student appears in the list.\n",
    "    if t == 0 or i != X[t-1, 0]: \n",
    "        pi[j] += 1\n",
    "\n",
    "# divide pi by its sum to obtain probabilities\n",
    "pi = pi / pi.sum()\n",
    "\n",
    "# initialize the matrix P with zeros\n",
    "P = np.zeros((len(courses), len(courses)), dtype=int)\n",
    "\n",
    "# loop over the data array again\n",
    "for t in range(1, len(X)):\n",
    "    # get the student index, course index, and grade from the data array\n",
    "    # where t is the time step and X[t, 0] is the student index\n",
    "    i = X[t, 0]\n",
    "    # where X[t, 2] is the course index\n",
    "    j = X[t, 2]\n",
    "    # where X[t, 3] is the grade\n",
    "    g = X[t, 3]\n",
    "\n",
    "    # if the student index is the same as the previous one, increment the corresponding entry in P\n",
    "    # this means that the current row in the data array corresponds to a subsequent attempt of a student at a course\n",
    "    # we want to count how many times a course was attempted after another course\n",
    "    # for example, if a student attempts course \"math\" after course \"A&D\", we want to increment the entry in P for (A&D, math)\n",
    "    # k represents the previous course and j the current course index\n",
    "    # P[k, j] is the entry in P for the pair of courses (k, j)\n",
    "    # i == X[t-1, 0] is true when the student index is the same as the previous one, which means a subsequent attempt of the same student at a course.\n",
    "    # if the course index is the same as the previous one, we don't want to increment the entry in P, since we want to count how many times a course was attempted after another course. In order to prevent counting the same course as the previous one, we check if the course index is the same as the previous one. The course index is the same as the previous one, if j == X[t-1, 2].\n",
    "    if i == X[t-1, 0]: # Add this code \" and j != X[t-1, 2]\" if you want to prevent that the same course repeating is also counted.\n",
    "        k = X[t-1, 2]\n",
    "        P[k, j] += 1\n",
    "\n",
    "# divide each row of P by its sum to obtain probabilities\n",
    "P = P / P.sum(axis=1, keepdims=True)\n"
   ],
   "metadata": {
    "collapsed": false,
    "ExecuteTime": {
     "end_time": "2024-01-19T10:28:02.771963900Z",
     "start_time": "2024-01-19T10:28:02.672436300Z"
    }
   },
   "id": "bf630427ab73ce8a"
  },
  {
   "cell_type": "markdown",
   "id": "161bf4ee",
   "metadata": {},
   "source": [
    "### Task 05.02\n",
    "\n",
    "Try to understand the following code. Then, execute it."
   ]
  },
  {
   "cell_type": "code",
   "execution_count": 117,
   "id": "5853136a",
   "metadata": {
    "ExecuteTime": {
     "end_time": "2024-01-19T10:28:02.789958400Z",
     "start_time": "2024-01-19T10:28:02.686444400Z"
    }
   },
   "outputs": [
    {
     "name": "stdout",
     "output_type": "stream",
     "text": [
      "for a student who has not attempted any course yet, the Markov chain would predict next:\n",
      "  \"A&D\" with probability 20%\n",
      "  \"math\" with probability 34%\n",
      "  \"programming\" with probability 26%\n",
      "  \"technical CS\" with probability 20%\n",
      "  \"theoretical CS\" with probability 0%\n",
      "  \"robotics\" with probability 0%\n",
      "  \"machine learning\" with probability 0%\n",
      "  \"data mining\" with probability 0%\n",
      "  \"software engineering\" with probability 0%\n",
      "for a student who has attempted \"A&D\" last, the Markov chain would predict next:\n",
      "  \"A&D\" with probability 4%\n",
      "  \"math\" with probability 25%\n",
      "  \"programming\" with probability 8%\n",
      "  \"technical CS\" with probability 14%\n",
      "  \"theoretical CS\" with probability 14%\n",
      "  \"robotics\" with probability 8%\n",
      "  \"machine learning\" with probability 8%\n",
      "  \"data mining\" with probability 0%\n",
      "  \"software engineering\" with probability 14%\n",
      "for a student who has attempted \"math\" last, the Markov chain would predict next:\n",
      "  \"A&D\" with probability 10%\n",
      "  \"math\" with probability 25%\n",
      "  \"programming\" with probability 8%\n",
      "  \"technical CS\" with probability 10%\n",
      "  \"theoretical CS\" with probability 8%\n",
      "  \"robotics\" with probability 1%\n",
      "  \"machine learning\" with probability 11%\n",
      "  \"data mining\" with probability 20%\n",
      "  \"software engineering\" with probability 4%\n",
      "for a student who has attempted \"programming\" last, the Markov chain would predict next:\n",
      "  \"A&D\" with probability 21%\n",
      "  \"math\" with probability 17%\n",
      "  \"programming\" with probability 3%\n",
      "  \"technical CS\" with probability 13%\n",
      "  \"theoretical CS\" with probability 3%\n",
      "  \"robotics\" with probability 9%\n",
      "  \"machine learning\" with probability 1%\n",
      "  \"data mining\" with probability 5%\n",
      "  \"software engineering\" with probability 21%\n",
      "for a student who has attempted \"technical CS\" last, the Markov chain would predict next:\n",
      "  \"A&D\" with probability 4%\n",
      "  \"math\" with probability 10%\n",
      "  \"programming\" with probability 26%\n",
      "  \"technical CS\" with probability 6%\n",
      "  \"theoretical CS\" with probability 8%\n",
      "  \"robotics\" with probability 19%\n",
      "  \"machine learning\" with probability 8%\n",
      "  \"data mining\" with probability 15%\n",
      "  \"software engineering\" with probability 0%\n",
      "for a student who has attempted \"theoretical CS\" last, the Markov chain would predict next:\n",
      "  \"A&D\" with probability 0%\n",
      "  \"math\" with probability 18%\n",
      "  \"programming\" with probability 31%\n",
      "  \"technical CS\" with probability 27%\n",
      "  \"theoretical CS\" with probability 9%\n",
      "  \"robotics\" with probability 0%\n",
      "  \"machine learning\" with probability 9%\n",
      "  \"data mining\" with probability 0%\n",
      "  \"software engineering\" with probability 4%\n",
      "for a student who has attempted \"robotics\" last, the Markov chain would predict next:\n",
      "  \"A&D\" with probability 11%\n",
      "  \"math\" with probability 19%\n",
      "  \"programming\" with probability 11%\n",
      "  \"technical CS\" with probability 0%\n",
      "  \"theoretical CS\" with probability 19%\n",
      "  \"robotics\" with probability 7%\n",
      "  \"machine learning\" with probability 15%\n",
      "  \"data mining\" with probability 3%\n",
      "  \"software engineering\" with probability 11%\n",
      "for a student who has attempted \"machine learning\" last, the Markov chain would predict next:\n",
      "  \"A&D\" with probability 25%\n",
      "  \"math\" with probability 0%\n",
      "  \"programming\" with probability 11%\n",
      "  \"technical CS\" with probability 11%\n",
      "  \"theoretical CS\" with probability 14%\n",
      "  \"robotics\" with probability 7%\n",
      "  \"machine learning\" with probability 3%\n",
      "  \"data mining\" with probability 14%\n",
      "  \"software engineering\" with probability 11%\n",
      "for a student who has attempted \"data mining\" last, the Markov chain would predict next:\n",
      "  \"A&D\" with probability 22%\n",
      "  \"math\" with probability 0%\n",
      "  \"programming\" with probability 9%\n",
      "  \"technical CS\" with probability 16%\n",
      "  \"theoretical CS\" with probability 9%\n",
      "  \"robotics\" with probability 16%\n",
      "  \"machine learning\" with probability 16%\n",
      "  \"data mining\" with probability 0%\n",
      "  \"software engineering\" with probability 9%\n",
      "for a student who has attempted \"software engineering\" last, the Markov chain would predict next:\n",
      "  \"A&D\" with probability 6%\n",
      "  \"math\" with probability 23%\n",
      "  \"programming\" with probability 0%\n",
      "  \"technical CS\" with probability 20%\n",
      "  \"theoretical CS\" with probability 10%\n",
      "  \"robotics\" with probability 13%\n",
      "  \"machine learning\" with probability 3%\n",
      "  \"data mining\" with probability 13%\n",
      "  \"software engineering\" with probability 10%\n"
     ]
    }
   ],
   "source": [
    "# AI tools (Bing Chat) used partly for commenting\n",
    "\n",
    "print(\"for a student who has not attempted any course yet, the Markov chain would predict next:\")\n",
    "# loop over the courses\n",
    "for j in range(len(courses)):\n",
    "    # print the course name and the probability of attempting it as the first course\n",
    "    # the probability is given by the vector pi\n",
    "    print(\"  \\\"%s\\\" with probability %d%%\" % (courses[j], 100 * pi[j]))\n",
    "\n",
    "# loop over the courses again\n",
    "for last_j in range(len(courses)):\n",
    "    print(\"for a student who has attempted \\\"%s\\\" last, the Markov chain would predict next:\" % courses[last_j])\n",
    "    # loop over the courses once more\n",
    "    for j in range(len(courses)):\n",
    "        # print the course name and the probability of attempting it after the last course\n",
    "        # the probability is given by the matrix P\n",
    "        print(\"  \\\"%s\\\" with probability %d%%\" % (courses[j], 100 * P[last_j, j]))\n"
   ]
  },
  {
   "cell_type": "markdown",
   "id": "cc008b8d",
   "metadata": {},
   "source": [
    "### Task 05.03\n",
    "\n",
    "1. Consider a student who has attempted no course, yet. What are the probabilities, according to the Markov chain, to attempt \"theoretical CS\", \"robotics\", \"machine learning\", \"data mining\", or \"software engineering\", next? How do you explain these probabilities?\n",
    "2. Consider a student who has attempted \"math\" last. What is the probability, as predicted by the Markov chain, to attempt \"math\" again? How do you explain this probability?"
   ]
  },
  {
   "cell_type": "markdown",
   "id": "9683bc27",
   "metadata": {},
   "source": [
    "**Answer:**\n",
    "\n",
    "1. The probabilities are given by the vector pi. The probability of attempting one of these courses next is 0%. This means that none of the students in the data set attempted any of these courses as their first course. These courses are probably more advanced and require some prerequisites from the students.\n",
    "2. With this line of code \"and j != X[t-1, 2]\" I can exclude the possibility of counting attempts of the same course again. So, the probability of attempting \"math\" again is 0% as is the possibility of attempting any other course again. But if I don't use this line and don't remove the cases where the same course is attempted again after the previous one I get 25%. This might be the more realistic model since students likely try a course again if they failed it previously or want to improve their grade. "
   ]
  },
  {
   "cell_type": "markdown",
   "id": "e72cc3a0",
   "metadata": {},
   "source": [
    "### Task 05.04\n",
    "\n",
    "Assume we wanted to use this Markov chain for recommendations by always recommending the course with the highest probability.\n",
    "\n",
    "Discuss, whether this recommendation scheme makes sense for this data set. In particular:\n",
    "* Explain at least one advantage of Markov Chain-based recommendation for this data set.\n",
    "* Explain at least three problems of Markov Chain-based recommendation for this data set."
   ]
  },
  {
   "cell_type": "markdown",
   "id": "2b2ea786",
   "metadata": {},
   "source": [
    "**ANSWER:** \n",
    "\n",
    "AI tools (Bing Chat) used for helping in generating answers.\n",
    " \n",
    "**Advantage:**\n",
    "\n",
    "* Predictability: The Markov Chain model provides a probabilistic approach to predicting the next course a student might take based on their current course. This can be useful in understanding the general trend or pattern in course selection among students.\n",
    "\n",
    "* Not a Black Box: Unlike some machine learning models, matrix factorization is not a black box. It provides clear and interpretable results. \n",
    "\n",
    "**Disadvantages:**\n",
    "\n",
    "The Markov chain assumes that the course choice depends only on the last course, and ignores the other courses that the student has attempted.\n",
    "\n",
    "The Markov chain does not account for the availability, prerequisites, or requirements of the courses, and may recommend courses that the student cannot or should not take.\n",
    "\n",
    "The Markov chain does not consider the preferences, feedback, or satisfaction of the students, and may recommend courses that the student does not like or enjoy. For example, it may recommend a course that the student has already taken and disliked, or a course that the student has no interest in.\n",
    "\n",
    "The Markov chain does not update or adapt to the changing behavior or feedback of the students, and may recommend courses that are outdated, or it may recommend a course that the student has already taken and passed.\n"
   ]
  },
  {
   "cell_type": "markdown",
   "id": "3aefe2e8",
   "metadata": {},
   "source": [
    "## Collaborative filtering\n",
    "\n",
    "User-based collaborative filtering tries to recommend courses to a student based on the grades of students who achieved similar grades previously.\n",
    "\n",
    "More precisely, let $g_1, \\ldots, g_m$ be the grades of a new student for each course, where $g_j = 0$ if a course was not yet attempted. And let $g_{i, 1}, \\ldots, g_{i, m}$ be the grades of student $i$ for each course.\n",
    "\n",
    "Then, user-based collaborative filtering generates recommendations as follows.\n",
    "\n",
    "1. Compute the similarity $s_i$ of the grades of the new student on any course to the grades of prior students $i$. For example, we can use the cosine similarity:\n",
    "\\begin{equation}\n",
    "s_i = \\frac{\\sum_{j=1}^m g_j \\cdot g_{i, j}}{\\sqrt{\\sum_{j=1}^m g_j^2} \\cdot \\sqrt{\\sum_{j=1}^m g_{i, j}^2}}.\n",
    "\\end{equation}\n",
    "2. We compute the estimated rating of the new student for course $j$ via the equation:\n",
    "\\begin{equation}\n",
    "g_j \\approx \\frac{\\sum_{i : g_{i, j} \\neq 0}^N s_i \\cdot g_{i, j}}{\\sum_{i : g_{i, j} \\neq 0} s_i},\n",
    "\\end{equation}\n",
    "in other words we take the weighted average grade of all students who have attempted the course."
   ]
  },
  {
   "cell_type": "markdown",
   "id": "c00cf136",
   "metadata": {},
   "source": [
    "### Task 05.05\n",
    "\n",
    "Compute a matrix $G$ with one row per student and one column per course with entries $g_{i, j}$ as defined above, i.e. the grade of student $i$ on course $j$ in their final attempt on the course, where $g_{i, j} = 0$ if student $i$ has not yet attempted course $j$. Print the matrix."
   ]
  },
  {
   "cell_type": "code",
   "execution_count": 118,
   "id": "41be8fe7",
   "metadata": {
    "ExecuteTime": {
     "end_time": "2024-01-19T10:28:02.828477100Z",
     "start_time": "2024-01-19T10:28:02.702433700Z"
    }
   },
   "outputs": [
    {
     "name": "stdout",
     "output_type": "stream",
     "text": [
      "Grading Matrix (G):\n",
      "Courses:  A&D,math,programming,technical CS,theoretical CS,robotics,machine learning,data mining,software engineering\n",
      "Student 1:[-1.  1.  1. -1.  0. -2.  0.  1.  2.]\n",
      "Student 2:[ 1. -1.  1. -2.  1.  0.  1.  2. -2.]\n",
      "Student 3:[ 2. -1.  1. -1.  2.  0.  0. -1. -1.]\n",
      "Student 4:[-1. -2. -1. -2.  1.  0.  0.  0.  0.]\n",
      "Student 5:[ 0.  1.  0. -2.  0.  0. -2.  0.  0.]\n",
      "Student 6:[-1.  1.  1.  1. -1.  1.  1. -1.  1.]\n",
      "Student 7:[ 1. -2.  1. -1. -1. -2.  0.  0.  2.]\n",
      "Student 8:[ 1. -1.  1.  2.  2.  0. -1.  1.  1.]\n",
      "Student 9:[ 2. -1.  2.  2. -1.  0.  0.  2.  2.]\n",
      "Student 10:[-1.  1. -1.  1. -2.  1.  0. -1.  1.]\n",
      "Student 11:[-1. -2. -1. -1.  1.  0.  0.  0.  1.]\n",
      "Student 12:[ 2. -1.  2. -1. -1.  1.  0.  0. -1.]\n",
      "Student 13:[-2. -2. -1. -1.  0. -2.  0.  0.  0.]\n",
      "Student 14:[-2.  2. -1.  2.  0. -1.  2.  2.  0.]\n",
      "Student 15:[-2.  2. -1. -1.  0.  0.  0.  2. -2.]\n",
      "Student 16:[ 1. -1.  1.  2.  2. -1.  0.  0. -1.]\n",
      "Student 17:[-1. -1.  2.  0. -2.  0. -1.  2.  0.]\n",
      "Student 18:[-1. -1. -1. -1.  1.  0. -1. -1.  0.]\n",
      "Student 19:[ 1. -1. -1. -1.  1. -1.  1.  2.  0.]\n",
      "Student 20:[-1. -1.  2. -1. -1. -1.  2.  0.  0.]\n",
      "Student 21:[-2. -1.  1.  1.  0.  1.  1. -1.  1.]\n",
      "Student 22:[ 1.  1.  1.  2.  1. -1.  2. -1.  0.]\n",
      "Student 23:[ 2. -1.  1. -1.  0. -2. -2.  1.  1.]\n",
      "Student 24:[ 2. -1. -1. -1.  1.  0. -1.  1.  0.]\n",
      "Student 25:[-2. -1.  0.  0.  0.  0.  1.  0.  0.]\n",
      "Student 26:[ 1. -1.  1.  1.  2.  1.  0.  1.  2.]\n",
      "Student 27:[ 0. -2.  2. -1.  0.  2.  0.  0. -2.]\n",
      "Student 28:[ 2.  1.  2. -1.  0. -2.  2.  2.  0.]\n",
      "Student 29:[-1. -1.  2.  1. -1.  0.  2.  1. -1.]\n",
      "Student 30:[-1.  1.  2. -1. -1.  0. -1.  2. -1.]\n",
      "Student 31:[-1. -1.  1. -1. -1. -1. -1.  1.  1.]\n",
      "Student 32:[ 2. -1.  1. -2.  2.  0.  2. -1.  0.]\n",
      "Student 33:[ 1.  1.  1.  1. -2. -1.  0.  1. -1.]\n",
      "Student 34:[-1. -1.  2. -1.  0.  2. -2.  1.  1.]\n",
      "Student 35:[-1.  0.  2. -2.  0.  0.  0.  0.  1.]\n",
      "Student 36:[ 2. -2.  1.  0.  2.  0.  0.  0. -1.]\n",
      "Student 37:[ 1. -1. -1. -1.  1.  2.  1.  1.  0.]\n",
      "Student 38:[-1.  1.  2.  2.  1. -1.  0.  2.  2.]\n",
      "Student 39:[ 1.  1.  2.  1.  1.  0. -1.  1.  0.]\n",
      "Student 40:[-2.  2.  1.  0.  0.  0. -1.  0. -2.]\n",
      "Student 41:[-2. -1. -1.  2.  0. -2.  0.  0.  0.]\n",
      "Student 42:[ 2.  1.  2.  2. -2. -1. -2.  1. -1.]\n",
      "Student 43:[-1.  2. -1. -1. -1. -1.  1.  1.  0.]\n",
      "Student 44:[ 0. -2.  2. -2.  0.  0.  0.  0. -2.]\n",
      "Student 45:[-1.  1. -1. -1.  1.  0.  2.  1.  0.]\n",
      "Student 46:[ 1.  2.  1. -1. -1. -1. -1.  2. -1.]\n",
      "Student 47:[ 0. -2.  0.  1.  0. -2.  0.  0.  0.]\n",
      "Student 48:[ 1. -1. -1.  1.  1.  2.  0.  0.  1.]\n",
      "Student 49:[-2. -1.  2. -2.  0.  0. -1.  1.  1.]\n",
      "Student 50:[ 2. -1. -1.  1.  2.  0. -1.  2. -1.]\n"
     ]
    }
   ],
   "source": [
    "# AI tools (Bing Chat) used for the code and partly for commenting\n",
    "\n",
    "# Number of students and courses\n",
    "# X[:, 0] selects all rows of the first column (index 0) from the 2D numpy array X. This column represents the student indices.\n",
    "# np.max(X[:, 0]) finds the maximum value in this array, which corresponds to the highest student index and the plus 1, so we count the 0 as well.\n",
    "num_students = np.max(X[:, 0]) + 1  # or use len( np.unique(X.T[0]) )\n",
    "num_courses = len(courses)\n",
    "\n",
    "# Initialize G\n",
    "G = np.zeros((num_students, num_courses))\n",
    "\n",
    "# Update G\n",
    "# Loop over each row in the data array X\n",
    "for student_index, time_step, course_index, grade in X:\n",
    "    # Update the corresponding entry in the grading matrix G\n",
    "    # Here we have to use the final attempt of each student at each course, so we have to overwrite the previous attempts which happens automatically using this code.\n",
    "    G[student_index, course_index] = grade\n",
    "\n",
    "# Print G with labels\n",
    "print(\"Grading Matrix (G):\")\n",
    "print(\"Courses: \", ','.join(courses))\n",
    "for i in range(num_students):\n",
    "    print(f\"Student {i+1}:{G[i]}\")"
   ]
  },
  {
   "cell_type": "markdown",
   "id": "2036e979",
   "metadata": {},
   "source": [
    "### Task 05.06\n",
    "\n",
    "Write a python function that takes a vector of grades as input and returns a copy of this vector where each zero entry is replaced with the collaborative filtering estimate $g_j$ of the grade according to the scheme above.\n",
    "\n",
    "Use your function to print the estimated grades for two fictional students:\n",
    "1. A student who has achieved an excellent grade in programming and good in technical CS as well as A&D but only passing in math and has not yet attempted any other course.\n",
    "2. A student who has achieved an excellent grade in math and A&D but only passing in technical CS and programming and has not yet attempted any other course.\n",
    "\n",
    "Which course would you recommend for these two students, respectively, given the grade estimates?"
   ]
  },
  {
   "cell_type": "code",
   "execution_count": 119,
   "id": "34229123",
   "metadata": {
    "ExecuteTime": {
     "end_time": "2024-01-19T10:28:02.830476400Z",
     "start_time": "2024-01-19T10:28:02.721958600Z"
    }
   },
   "outputs": [
    {
     "name": "stdout",
     "output_type": "stream",
     "text": [
      "Estimated grades for student 1: [ 2  1  0  1 -1  0  0  0  0]\n",
      "Estimated grades for student 2: [ -1   2   1  -1 -24  -3   0   8  -4]\n",
      "Recommended course for student 1: A&D\n",
      "Recommended course for student 2: data mining\n"
     ]
    }
   ],
   "source": [
    "# AI tools (Bing Chat) used for the code and partly for commenting\n",
    "\n",
    "# Function to calculate cosine similarity\n",
    "def cosine_similarity(a, b):\n",
    "    # The cosine similarity is calculated as the dot product of a and b divided by the product of their norms.\n",
    "    # This gives a measure of how similar the two vectors are.\n",
    "    return np.dot(a, b) / (np.linalg.norm(a) * np.linalg.norm(b))\n",
    "\n",
    "# Function to estimate grades\n",
    "def estimate_grades(student_grades, G):\n",
    "    # We start by making a copy of the student's grades. We will modify this copy with our estimates.\n",
    "    estimated_grades = np.copy(student_grades)\n",
    "    # We loop over each course (represented by the index j)\n",
    "    for j in range(len(student_grades)):\n",
    "        # If the student has not yet attempted the course (grade is 0)\n",
    "        if student_grades[j] == 0:\n",
    "            # We calculate the similarity between the student's grades and the grades of all other students for this course.\n",
    "            # This gives us a measure of how similar this student is to each other student in terms of their grades for this course.\n",
    "            similarities = [cosine_similarity(student_grades, G[i]) for i in range(G.shape[0])]\n",
    "            # We then estimate the student's grade for this course as a weighted average of the other students' grades,\n",
    "            # where the weights are the similarities we just calculated.\n",
    "            estimated_grades[j] = np.dot(similarities, G[:, j]) / np.sum(similarities)\n",
    "    # We return the estimated grades\n",
    "    return estimated_grades\n",
    "\n",
    "# Create vectors for the two fictional students\n",
    "# The numbers represent the grades for each course. 0 means the course has not been attempted yet.\n",
    "student1 = np.array([2, 1, 0, 1, -1, 0, 0, 0, 0])\n",
    "student2 = np.array([-1, 2, 1, -1, 0, 0, 0, 0, 0])\n",
    "\n",
    "# Estimate grades for the courses they haven't attempted yet\n",
    "# We use our function to estimate the grades for each student\n",
    "estimated_grades1 = estimate_grades(student1, G)\n",
    "estimated_grades2 = estimate_grades(student2, G)\n",
    "\n",
    "# Print the estimated grades\n",
    "print(\"Estimated grades for student 1:\", estimated_grades1)\n",
    "print(\"Estimated grades for student 2:\", estimated_grades2)\n",
    "\n",
    "# Recommend the course with the highest estimated grade for each student\n",
    "# We find the index of the course with the highest estimated grade, and use this index to look up the course name in the list of courses.\n",
    "recommended_course1 = np.argmax(estimated_grades1)\n",
    "recommended_course2 = np.argmax(estimated_grades2)\n",
    "\n",
    "print(\"Recommended course for student 1:\", courses[recommended_course1])\n",
    "print(\"Recommended course for student 2:\", courses[recommended_course2])"
   ]
  },
  {
   "cell_type": "markdown",
   "id": "130de488",
   "metadata": {},
   "source": [
    "**ANSWER:**"
   ]
  },
  {
   "cell_type": "markdown",
   "id": "be74fc5f",
   "metadata": {},
   "source": [
    "### Task 05.07\n",
    "\n",
    "Discuss whether collaborative filtering makes sense for this kind of data. In particular:\n",
    "\n",
    "* Explain at least one advantage of collaborative filtering for this data set.\n",
    "* Explain at least two problems of collaborative filtering for this data set."
   ]
  },
  {
   "cell_type": "markdown",
   "id": "06cc562f",
   "metadata": {},
   "source": [
    "**ANSWER:**\n",
    "\n",
    "**Advantage:**\n",
    "\n",
    "Personalized Recommendations: Collaborative filtering can provide personalized course recommendations for each student based on their own grades and the grades of similar students. This can potentially lead to more relevant and useful recommendations compared to other methods that do not take individual student's grades into account.\n",
    "\n",
    "**Disadvantages:**\n",
    "Cold Start Problem: Collaborative filtering struggles with new students who have not yet attempted any courses. Since these students do not have any grades, it's hard to find similar students and make accurate recommendations.  \n",
    "\n",
    "Sparsity: The grading matrix can be very sparse, especially if many students have not attempted many courses. This sparsity can make it difficult for collaborative filtering to find similar students and make accurate recommendations.  \n",
    "\n",
    "Scalability: Collaborative filtering can be computationally expensive as it requires comparing a student to all other students to find similar ones. This can be a problem with a large number of students."
   ]
  },
  {
   "cell_type": "markdown",
   "id": "d2e185b0",
   "metadata": {},
   "source": [
    "## Matrix factorization\n",
    "\n",
    "Given an $N \\times m$ grading matrix $G$, matrix factorization attempts to find two matrices, namely a $N \\times K$ matrix of student rperesentations $U$ and a $K \\times m$ matrix of course representations $V$, such that the Frobenius norm $\\lVert G - U \\cdot V \\rvert_F$ is minimized for a given, small $K$. This is achieved via singular value decomposition.\n",
    "\n",
    "A singular value decomposition returns three output arguments:\n",
    "1. The matrix of eigenvectors $\\tilde U$ of $G \\cdot G^T$.\n",
    "2. The matrix of eigenvalues $\\Lambda$ of $G^T \\cdot G$.\n",
    "3. The matrix of eigenvectors $\\tilde V$ of $G^T \\cdot G$.\n",
    "\n",
    "The original matrix $G$ can be losslessly reconstructed via $\\tilde U_{:, :m} \\cdot \\Lambda \\cdot \\tilde V$, taking only the first $m$ columns of $\\tilde U$.\n",
    "\n",
    "For matrix factorization, we decide on a number of $K \\ll m$ latent factors and define the student representations as $U := \\tilde U_{:, :K} \\cdot \\sqrt{\\Lambda_{:K, :K}}$ and the course representations as $V := \\sqrt{\\Lambda_{:K, :K}} \\cdot \\tilde V$."
   ]
  },
  {
   "cell_type": "markdown",
   "id": "cff0467c",
   "metadata": {},
   "source": [
    "### Task 05.08\n",
    "\n",
    "Provide a python function which takes a $N \\times m$ grade matrix $G$ as well as a number of latent components $K$ as input and returns the $N \\times K$ matrix of student representations $U$ and the $K \\times m$ matrix of course representations $V$.\n",
    "\n",
    "Use the function `np.linalg.svd` to perform the singular value decomposition."
   ]
  },
  {
   "cell_type": "code",
   "execution_count": 120,
   "id": "e9f148d5",
   "metadata": {
    "ExecuteTime": {
     "end_time": "2024-01-19T10:28:02.830476400Z",
     "start_time": "2024-01-19T10:28:02.734962200Z"
    }
   },
   "outputs": [],
   "source": [
    "# AI tools (Bing Chat) used for the code and partly for commenting\n",
    "\n",
    "def matrix_factorization(G, K):\n",
    "    # Perform singular value decomposition\n",
    "    U_tilde, s, V_tilde = np.linalg.svd(G)\n",
    "\n",
    "    # Convert s into a diagonal matrix\n",
    "    S = np.diag(s)\n",
    "\n",
    "    # Calculate U and V\n",
    "    U = U_tilde[:, :K] @ np.sqrt(S[:K, :K])\n",
    "    V = np.sqrt(S[:K, :K]) @ V_tilde[:K, :]\n",
    "\n",
    "    return U, V"
   ]
  },
  {
   "cell_type": "markdown",
   "id": "cb5d00ad",
   "metadata": {},
   "source": [
    "### Task 05.09\n",
    "\n",
    "Provide a plot with the number of latent dimensions $K$ on the x axis and the reconstruction error $\\lVert G - U \\cdot V \\rVert_F$ on the y axis for $K$ between 1 and 9."
   ]
  },
  {
   "cell_type": "code",
   "execution_count": 123,
   "id": "cd04ba58",
   "metadata": {
    "ExecuteTime": {
     "end_time": "2024-01-19T10:29:24.191143100Z",
     "start_time": "2024-01-19T10:29:24.090477500Z"
    }
   },
   "outputs": [
    {
     "data": {
      "text/plain": "<Figure size 640x480 with 1 Axes>",
      "image/png": "[encoded data removed]"
     },
     "metadata": {},
     "output_type": "display_data"
    }
   ],
   "source": [
    "# AI tools (Bing Chat) used for the code and partly for commenting\n",
    "\n",
    "# Initialize an empty list to store the reconstruction errors\n",
    "errors = []\n",
    "\n",
    "# Loop over the number of latent dimensions K from 1 to 9\n",
    "for K in range(1, 10):\n",
    "    # Perform matrix factorization on the grading matrix G\n",
    "    U, V = matrix_factorization(G, K)\n",
    "    \n",
    "    # Compute the reconstruction error\n",
    "    error = np.linalg.norm(G - U @ V, 'fro')\n",
    "    \n",
    "    # Append the reconstruction error to the list\n",
    "    errors.append(error)\n",
    "\n",
    "# Plot the reconstruction errors against the number of latent dimensions\n",
    "plt.plot(range(1, 10), errors)\n",
    "plt.xlabel('Number of Latent Dimensions (K)')\n",
    "plt.ylabel('Reconstruction Error')\n",
    "plt.title('Reconstruction Error vs. Number of Latent Dimensions')\n",
    "plt.show()"
   ]
  },
  {
   "cell_type": "markdown",
   "id": "bb92c624",
   "metadata": {},
   "source": [
    "### Task 05.10\n",
    "\n",
    "Provide two scatter plots, one for the student representations $U$, and one for the course representations $V$, in $K$ dimensions. The course representations should be labeled with the course names."
   ]
  },
  {
   "cell_type": "code",
   "execution_count": 124,
   "id": "fdfcd03d",
   "metadata": {
    "ExecuteTime": {
     "end_time": "2024-01-19T10:29:28.413993Z",
     "start_time": "2024-01-19T10:29:28.179102600Z"
    }
   },
   "outputs": [
    {
     "data": {
      "text/plain": "<Figure size 1000x500 with 2 Axes>",
      "image/png": "[encoded data removed]"
     },
     "metadata": {},
     "output_type": "display_data"
    }
   ],
   "source": [
    "# AI tools (Bing Chat) used for the code and partly for commenting\n",
    "\n",
    "# Perform matrix factorization with K=2\n",
    "U, V = matrix_factorization(G, 2)\n",
    "\n",
    "# Create a scatter plot for the student representations U\n",
    "plt.figure(figsize=(10, 5))\n",
    "plt.subplot(1, 2, 1)\n",
    "plt.scatter(U[:, 0], U[:, 1])\n",
    "plt.title('Student Representations (U)')\n",
    "plt.xlabel('Latent Factor 1')\n",
    "plt.ylabel('Latent Factor 2')\n",
    "\n",
    "# Create a scatter plot for the course representations V\n",
    "plt.subplot(1, 2, 2)\n",
    "plt.scatter(V[0, :], V[1, :])\n",
    "for i, course in enumerate(courses):\n",
    "    plt.annotate(course, (V[0, i], V[1, i]))\n",
    "plt.title('Course Representations (V)')\n",
    "plt.xlabel('Latent Factor 1')\n",
    "plt.ylabel('Latent Factor 2')\n",
    "\n",
    "plt.tight_layout()\n",
    "plt.show()"
   ]
  },
  {
   "cell_type": "markdown",
   "id": "c42aabf2",
   "metadata": {},
   "source": [
    "### Task 05.11\n",
    "\n",
    "Make a copy of the original grading matrix $G$.\n",
    "In the copy, fill in zeros using the entries of the product $U \\cdot V$ for $K = 2$.\n",
    "Plot the resulting grading matrix."
   ]
  },
  {
   "cell_type": "code",
   "execution_count": 125,
   "id": "a4a0e521",
   "metadata": {
    "ExecuteTime": {
     "end_time": "2024-01-19T10:30:13.669640900Z",
     "start_time": "2024-01-19T10:30:13.552528100Z"
    }
   },
   "outputs": [
    {
     "data": {
      "text/plain": "<Figure size 640x480 with 2 Axes>",
      "image/png": "[encoded data removed]"
     },
     "metadata": {},
     "output_type": "display_data"
    }
   ],
   "source": [
    "# AI tools (Bing Chat) used for the code and partly for commenting\n",
    "\n",
    "# Make a copy of the original grading matrix G\n",
    "G_copy = np.copy(G)\n",
    "\n",
    "# Perform matrix factorization with K=2\n",
    "U, V = matrix_factorization(G, 2)\n",
    "\n",
    "# Compute the estimated grades\n",
    "estimated_grades = U @ V\n",
    "\n",
    "# Replace the zero entries in the copy of G with the corresponding entries from the estimated grades\n",
    "G_copy[G_copy == 0] = estimated_grades[G_copy == 0]\n",
    "\n",
    "# Plot the resulting grading matrix\n",
    "plt.imshow(G_copy, cmap='viridis')\n",
    "plt.colorbar(label='Grade')\n",
    "plt.title('Grading Matrix after Matrix Factorization')\n",
    "plt.xlabel('Course')\n",
    "plt.ylabel('Student')\n",
    "plt.show()"
   ]
  },
  {
   "cell_type": "markdown",
   "id": "5ed294bd",
   "metadata": {},
   "source": [
    "### Task 05.12\n",
    "\n",
    "Discuss whether matrix factorization makes sense for this kind of data. In particular:\n",
    "\n",
    "* Explain at least one advantage of matrix factorization for this data set.\n",
    "* Explain at least two problems of matrix factorization for this data set."
   ]
  },
  {
   "cell_type": "markdown",
   "id": "b995428e",
   "metadata": {},
   "source": [
    "**ANSWER:**\n",
    "\n",
    "**Advantage:**\n",
    "Matrix factorization can uncover latent features that explain the observed student grades. These latent features can represent underlying characteristics of the students and courses that are not explicitly provided in the data. For example, a latent feature might represent a student's affinity for theoretical subjects, or a course's difficulty level. This can provide a more nuanced understanding of the data and can improve the accuracy of the recommendations.\n",
    "\n",
    "**Disadvantages:**\n",
    "Cold Start Problem: Matrix factorization, like collaborative filtering, struggles with new students who have not yet attempted any courses. Since these students do not have any grades, it's hard to find similar students and make accurate recommendations.  \n",
    "\n",
    "Overfitting: Matrix factorization can overfit to the observed data, especially if the number of latent features K is too large. This can lead to poor generalization performance on unseen data.  \n",
    "\n",
    "Interpretability: While the latent features can improve the accuracy of the recommendations, they are not always easy to interpret. This can make it difficult to understand why a particular course was recommended."
   ]
  }
 ],
 "metadata": {
  "kernelspec": {
   "display_name": "Python 3 (ipykernel)",
   "language": "python",
   "name": "python3"
  },
  "language_info": {
   "codemirror_mode": {
    "name": "ipython",
    "version": 3
   },
   "file_extension": ".py",
   "mimetype": "text/x-python",
   "name": "python",
   "nbconvert_exporter": "python",
   "pygments_lexer": "ipython3",
   "version": "3.11.7"
  }
 },
 "nbformat": 4,
 "nbformat_minor": 5
}
