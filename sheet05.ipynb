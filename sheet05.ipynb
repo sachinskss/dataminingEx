{
 "cells": [
  {
   "cell_type": "markdown",
   "id": "c2e647a4",
   "metadata": {},
   "source": [
    "# Exercise Sheet 05: Recommender Systems\n",
    "\n",
    "**Introduction to Data Mining WS23/24**  \n",
    "**Bielefeld University**  \n",
    "**Alina Deriyeva, Benjamin Paaßen**  \n",
    "**Exercise Sheet Publication Date: 2024-01-08**  \n",
    "**Exercise Sheet Submission Deadline: 2024-01-19, noon (i.e. 12:00)**, via **moodle** (please do not use e-mail submissions anymore).\n",
    "\n",
    "**NOTE** The use of language models/AI tools is permitted IF you notify us of the use (just indicate it in the respective task) and are still able to understand and present your results. We also appreciate it if you link to a chatlog of the interaction with the language model/AI tool so that we can understand better how students tend to use these tools."
   ]
  },
  {
   "cell_type": "markdown",
   "id": "9f8967b8",
   "metadata": {},
   "source": [
    "**PLEASE INDICATE ALL AUTHORS OF THE SUBMISSION IN THIS FIELD**"
   ]
  },
  {
   "cell_type": "markdown",
   "id": "253f2f6c",
   "metadata": {},
   "source": [
    "### Preamble: Data set\n",
    "\n",
    "Consider the data set in `sheet05_data.csv`. This data set contains the study progress of 50 students in a fictional university bachelor computer science dgree.\n",
    "\n",
    "Each row corresponds to one attempt of one student at a course. The first column contains the student index $i$, the second column the time step $t$, the third column the course index $j$, and the fourth column the grade the student achieved, where -2 means failed, -1 means passed with a not so good grade, +1 means passed with a good grade, and +2 means passed with an excellent grade.\n",
    "\n",
    "The courses are the following."
   ]
  },
  {
   "cell_type": "code",
   "execution_count": null,
   "id": "04b58e4b",
   "metadata": {},
   "outputs": [],
   "source": [
    "courses = ['A&D', 'math', 'programming', 'technical CS', 'theoretical CS', 'robotics', 'machine learning', 'data mining', 'software engineering']\n",
    "grades  = ['failed', 'passed', 'good', 'excellent']"
   ]
  },
  {
   "cell_type": "markdown",
   "id": "694d3928",
   "metadata": {},
   "source": [
    "The following codes loads the data and prints the progress for the first student."
   ]
  },
  {
   "cell_type": "code",
   "execution_count": null,
   "id": "295ca709",
   "metadata": {},
   "outputs": [],
   "source": [
    "import numpy as np\n",
    "import matplotlib.pyplot as plt\n",
    "\n",
    "X = np.loadtxt('sheet05_data.csv', skiprows = 1, delimiter = '\\t', dtype=int)\n",
    "\n",
    "t = 0\n",
    "print('progress for student 0')\n",
    "while True:\n",
    "    i = X[t, 0]\n",
    "    if i > 0:\n",
    "        break\n",
    "    j = X[t, 2]\n",
    "    g = X[t, 3]\n",
    "    print('time %d: \\\"%s\\\" with grade \\\"%s\\\"' % (t, courses[j], grades[g]))\n",
    "    t += 1\n",
    "\n"
   ]
  },
  {
   "cell_type": "markdown",
   "id": "425ee677",
   "metadata": {},
   "source": [
    "## Markov chains\n",
    "\n",
    "In the following tasks, we will apply a Markov chain to this data set. A Markov chain is defined by two types of parameters: For each course $j$, we have a starting probability $\\pi_j$. And for each pair for courses $(j, k)$, we have a probability $p_{j, k}$ that indicates the likelihood of attempting course $k$ after course $j$."
   ]
  },
  {
   "cell_type": "markdown",
   "id": "9b3faac8",
   "metadata": {},
   "source": [
    "### Task 05.01\n",
    "\n",
    "Compute a Markov Chain based on the given data set. In particular.\n",
    "\n",
    "1. Generate a vector `pi` with `len(courses)` entries where `pi[j]` is the number of times course `j` was attempted as first course.\n",
    "2. Divide `pi` by its sum to obtain probabilities.\n",
    "3. Generate a matrix `P` with `len(courses) x len(courses)` entries where `P[j, k]` is the number of times course `k` was attempted after course `j`.\n",
    "4. Divide each row of `P` by its sum to obtain probabilities."
   ]
  },
  {
   "cell_type": "code",
   "execution_count": null,
   "id": "dcba14a8",
   "metadata": {},
   "outputs": [],
   "source": []
  },
  {
   "cell_type": "markdown",
   "id": "161bf4ee",
   "metadata": {},
   "source": [
    "### Task 05.02\n",
    "\n",
    "Try to understand the following code. Then, execute it."
   ]
  },
  {
   "cell_type": "code",
   "execution_count": null,
   "id": "5853136a",
   "metadata": {},
   "outputs": [],
   "source": [
    "print(\"for a student who has not attempted any course yet, the Markov chain would predict next:\")\n",
    "for j in range(len(courses)):\n",
    "    print(\"  \\\"%s\\\" with probability %d%%\" % (courses[j], 100 * pi[j]))\n",
    "\n",
    "for last_j in range(len(courses)):\n",
    "    print(\"for a student who has attempted \\\"%s\\\" last, the Markov chain would predict next:\" % courses[last_j])\n",
    "    for j in range(len(courses)):\n",
    "        print(\"  \\\"%s\\\" with probability %d%%\" % (courses[j], 100 * P[last_j, j]))"
   ]
  },
  {
   "cell_type": "markdown",
   "id": "cc008b8d",
   "metadata": {},
   "source": [
    "### Task 05.03\n",
    "\n",
    "1. Consider a student who has attempted no course, yet. What are the probabilities, according to the Markov chain, to attempt \"theoretical CS\", \"robotics\", \"machine learning\", \"data mining\", or \"software engineering\", next? How do you explain these probabilities?\n",
    "2. Consider a student who has attempted \"math\" last. What is the probability, as predicted by the Markov chain, to attempt \"math\" again? How do you explain this probability?"
   ]
  },
  {
   "cell_type": "markdown",
   "id": "9683bc27",
   "metadata": {},
   "source": [
    "**Answer:**"
   ]
  },
  {
   "cell_type": "markdown",
   "id": "e72cc3a0",
   "metadata": {},
   "source": [
    "### Task 05.04\n",
    "\n",
    "Assume we wanted to use this Markov chain for recommendations by always recommending the course with the highest probability.\n",
    "\n",
    "Discuss, whether this recommendation scheme makes sense for this data set. In particular:\n",
    "* Explain at least one advantage of Markov Chain-based recommendation for this data set.\n",
    "* Explain at least three problems of Markov Chain-based recommendation for this data set."
   ]
  },
  {
   "cell_type": "markdown",
   "id": "2b2ea786",
   "metadata": {},
   "source": [
    "**ANSWER:**\n",
    "\n",
    "**Advantage:**\n",
    "\n",
    "**Disadvantages:**"
   ]
  },
  {
   "cell_type": "markdown",
   "id": "3aefe2e8",
   "metadata": {},
   "source": [
    "## Collaborative filtering\n",
    "\n",
    "User-based collaborative filtering tries to recommend courses to a student based on the grades of students who achieved similar grades previously.\n",
    "\n",
    "More precisely, let $g_1, \\ldots, g_m$ be the grades of a new student for each course, where $g_j = 0$ if a course was not yet attempted. And let $g_{i, 1}, \\ldots, g_{i, m}$ be the grades of student $i$ for each course.\n",
    "\n",
    "Then, user-based collaborative filtering generates recommendations as follows.\n",
    "\n",
    "1. Compute the similarity $s_i$ of the grades of the new student on any course to the grades of prior students $i$. For example, we can use the cosine similarity:\n",
    "\\begin{equation}\n",
    "s_i = \\frac{\\sum_{j=1}^m g_j \\cdot g_{i, j}}{\\sqrt{\\sum_{j=1}^m g_j^2} \\cdot \\sqrt{\\sum_{j=1}^m g_{i, j}^2}}.\n",
    "\\end{equation}\n",
    "2. We compute the estimated rating of the new student for course $j$ via the equation:\n",
    "\\begin{equation}\n",
    "g_j \\approx \\frac{\\sum_{i : g_{i, j} \\neq 0}^N s_i \\cdot g_{i, j}}{\\sum_{i : g_{i, j} \\neq 0} s_i},\n",
    "\\end{equation}\n",
    "in other words we take the weighted average grade of all students who have attempted the course."
   ]
  },
  {
   "cell_type": "markdown",
   "id": "c00cf136",
   "metadata": {},
   "source": [
    "### Task 05.05\n",
    "\n",
    "Compute a matrix $G$ with one row per student and one column per course with entries $g_{i, j}$ as defined above, i.e. the grade of student $i$ on course $j$ in their final attempt on the course, where $g_{i, j} = 0$ if student $i$ has not yet attempted course $j$. Print the matrix."
   ]
  },
  {
   "cell_type": "code",
   "execution_count": null,
   "id": "41be8fe7",
   "metadata": {},
   "outputs": [],
   "source": []
  },
  {
   "cell_type": "markdown",
   "id": "2036e979",
   "metadata": {},
   "source": [
    "### Task 05.06\n",
    "\n",
    "Write a python function that takes a vector of grades as input and returns a copy of this vector where each zero entry is replaced with the collaborative filtering estimate of the grade according to the scheme above.\n",
    "\n",
    "Use your function to print the estimated grades for two fictional students:\n",
    "1. A student who has achieved an excellent grade in programming and good in technical CS as well as A&D but only passing in math and has not yet attempted any other course.\n",
    "2. A student who has achieved an excellent grade in math and A&D but only passing in technical CS and programming and has not yet attempted any other course.\n",
    "\n",
    "Which course would you recommend for these two students, respectively, given the grade estimates?"
   ]
  },
  {
   "cell_type": "code",
   "execution_count": null,
   "id": "34229123",
   "metadata": {},
   "outputs": [],
   "source": []
  },
  {
   "cell_type": "markdown",
   "id": "130de488",
   "metadata": {},
   "source": [
    "**ANSWER:**"
   ]
  },
  {
   "cell_type": "markdown",
   "id": "be74fc5f",
   "metadata": {},
   "source": [
    "### Task 05.07\n",
    "\n",
    "Discuss whether collaborative filtering makes sense for this kind of data. In particular:\n",
    "\n",
    "* Explain at least one advantage of collaborative filtering for this data set.\n",
    "* Explain at least two problems of collaborative filtering for this data set."
   ]
  },
  {
   "cell_type": "markdown",
   "id": "06cc562f",
   "metadata": {},
   "source": [
    "**ANSWER:**\n",
    "\n",
    "**Advantage:**\n",
    "\n",
    "**Disadvantages:**"
   ]
  },
  {
   "cell_type": "markdown",
   "id": "d2e185b0",
   "metadata": {},
   "source": [
    "## Matrix factorization\n",
    "\n",
    "Given an $N \\times m$ grading matrix $G$, matrix factorization attempts to find two matrices, namely a $N \\times K$ matrix of student rperesentations $U$ and a $K \\times m$ matrix of course representations $V$, such that the Frobenius norm $\\lVert G - U \\cdot V \\rvert_F$ is minimized for a given, small $K$. This is achieved via singular value decomposition.\n",
    "\n",
    "A singular value decomposition returns three output arguments:\n",
    "1. The matrix of eigenvectors $\\tilde U$ of $G \\cdot G^T$.\n",
    "2. The matrix of eigenvalues $\\Lambda$ of $G^T \\cdot G$.\n",
    "3. The matrix of eigenvectors $\\tilde V$ of $G^T \\cdot G$.\n",
    "\n",
    "The original matrix $G$ can be losslessly reconstructed via $\\tilde U_{:, :m} \\cdot \\Lambda \\cdot \\tilde V$, taking only the first $m$ columns of $\\tilde U$.\n",
    "\n",
    "For matrix factorization, we decide on a number of $K \\ll m$ latent factors and define the student representations as $U := \\tilde U_{:, :K} \\cdot \\sqrt{\\Lambda_{:K, :K}}$ and the course representations as $V := \\sqrt{\\Lambda_{:K, :K}} \\cdot \\tilde V$."
   ]
  },
  {
   "cell_type": "markdown",
   "id": "cff0467c",
   "metadata": {},
   "source": [
    "### Task 05.08\n",
    "\n",
    "Provide a python function which takes a $N \\times m$ grade matrix $G$ as well as a number of latent components $K$ as input and returns the $N \\times K$ matrix of student representations $U$ and the $K \\times m$ matrix of course representations $V$.\n",
    "\n",
    "Use the function `np.linalg.svd` to perform the singular value decomposition."
   ]
  },
  {
   "cell_type": "code",
   "execution_count": null,
   "id": "e9f148d5",
   "metadata": {},
   "outputs": [],
   "source": []
  },
  {
   "cell_type": "markdown",
   "id": "cb5d00ad",
   "metadata": {},
   "source": [
    "### Task 05.09\n",
    "\n",
    "Provide a plot with the number of latent dimensions $K$ on the x axis and the reconstruction error $\\lVert G - U \\cdot V \\rVert_F$ on the y axis for $K$ between 1 and 9."
   ]
  },
  {
   "cell_type": "code",
   "execution_count": null,
   "id": "cd04ba58",
   "metadata": {},
   "outputs": [],
   "source": []
  },
  {
   "cell_type": "markdown",
   "id": "bb92c624",
   "metadata": {},
   "source": [
    "### Task 05.10\n",
    "\n",
    "Provide two scatter plots, one for the student representations $U$, and one for the course representations $V$, in $K$ dimensions. The course representations should be labeled with the course names."
   ]
  },
  {
   "cell_type": "code",
   "execution_count": null,
   "id": "fdfcd03d",
   "metadata": {},
   "outputs": [],
   "source": []
  },
  {
   "cell_type": "markdown",
   "id": "c42aabf2",
   "metadata": {},
   "source": [
    "### Task 05.11\n",
    "\n",
    "Make a copy of the original grading matrix $G$.\n",
    "In the copy, fill in zeros using the entries of the product $U \\cdot V$ for $K = 2$.\n",
    "Plot the resulting grading matrix."
   ]
  },
  {
   "cell_type": "code",
   "execution_count": null,
   "id": "a4a0e521",
   "metadata": {},
   "outputs": [],
   "source": []
  },
  {
   "cell_type": "markdown",
   "id": "5ed294bd",
   "metadata": {},
   "source": [
    "### Task 05.12\n",
    "\n",
    "Discuss whether matrix factorization makes sense for this kind of data. In particular:\n",
    "\n",
    "* Explain at least one advantage of matrix factorization for this data set.\n",
    "* Explain at least two problems of matrix factorization for this data set."
   ]
  },
  {
   "cell_type": "markdown",
   "id": "b995428e",
   "metadata": {},
   "source": [
    "**ANSWER:**\n",
    "\n",
    "**Advantage:**\n",
    "\n",
    "**Disadvantages:**"
   ]
  }
 ],
 "metadata": {
  "kernelspec": {
   "display_name": "Python 3 (ipykernel)",
   "language": "python",
   "name": "python3"
  },
  "language_info": {
   "codemirror_mode": {
    "name": "ipython",
    "version": 3
   },
   "file_extension": ".py",
   "mimetype": "text/x-python",
   "name": "python",
   "nbconvert_exporter": "python",
   "pygments_lexer": "ipython3",
   "version": "3.11.7"
  }
 },
 "nbformat": 4,
 "nbformat_minor": 5
}
